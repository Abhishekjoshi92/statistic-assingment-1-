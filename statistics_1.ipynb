{
  "nbformat": 4,
  "nbformat_minor": 0,
  "metadata": {
    "colab": {
      "provenance": []
    },
    "kernelspec": {
      "name": "python3",
      "display_name": "Python 3"
    },
    "language_info": {
      "name": "python"
    }
  },
  "cells": [
    {
      "cell_type": "code",
      "execution_count": null,
      "metadata": {
        "id": "aPvWzhD3euZs"
      },
      "outputs": [],
      "source": [
        "What is statistics, and why is it important?\n",
        "\n",
        "Ans : Data Collection: Gathering numerical information relevant to a specific question or problem.\n",
        "Analysis: Applying mathematical and computational techniques to identify patterns, relationships, and insights within the data.\n",
        "Interpretation: Explaining the meaning and significance of the findings.\n",
        "Presentation: Communicating the results in a clear and understandable way, often using tables, charts, and graphs.\n",
        "Organization: Structuring and summarizing data to make it easier to work with.\n",
        "\n",
        "It is important as\n",
        "\n",
        "Informed Decision Making:\n",
        "Statistics provides evidence-based support for decisions in various contexts, from business strategies to healthcare policies.\n",
        "Problem Solving:\n",
        "It helps in identifying the root causes of problems, understanding their impact, and developing solutions.\n",
        "Prediction and Forecasting:\n",
        "Statistical models can be used to forecast future trends and events, such as sales projections or weather patterns.\n",
        "Understanding Relationships:\n",
        "Statistics helps reveal connections between different variables, allowing for a deeper understanding of complex phenomena.\n",
        "Quality Control:\n",
        "It enables the monitoring and improvement of processes and products by identifying areas of variation and deviation from expected standards.\n",
        "Research and Development:\n",
        "Statistics is essential for conducting research, evaluating outcomes, and developing new knowledge in various scientific fields.\n",
        "Critical Thinking:\n",
        "Studying statistics enhances critical thinking and analytical skills, enabling individuals to evaluate information and arguments more effectively.\n",
        "Daily Life Applications:\n",
        "Statistical concepts are used in everyday situations, such as understanding polls, interpreting medical results, or managing personal finances.\n"
      ]
    },
    {
      "cell_type": "code",
      "source": [
        "What are the two main types of statistics?\n",
        "\n",
        "Ans : The two main types of statistics are descriptive statistics and inferential statistics.\n",
        "Descriptive statistics summarizes and organizes data, while inferential statistics uses sample data to draw conclusions about a population.\n",
        "Here's a more detailed explanation:\n",
        "Introduction of Statistics and its Types - GeeksforGeeks\n",
        "1. Descriptive Statistics:\n",
        "Purpose: To describe and summarize the main features of a dataset.\n",
        "Methods: This involves using measures like mean, median, mode, standard deviation, and creating visualizations like histograms and charts to present data in a meaningful way.\n",
        "Example: Calculating the average income of a group of people or creating a bar chart to show the distribution of ages in a population.\n",
        "2. Inferential Statistics:\n",
        "Purpose:\n",
        "To make generalizations or predictions about a population based on a sample of data.\n",
        "Methods:\n",
        "This involves using techniques like hypothesis testing, confidence intervals, and regression analysis to draw conclusions and make inferences about the larger population.\n",
        "Example:\n",
        "Using survey data to estimate the approval rating of a political candidate in the entire country, or determining if there's a relationship between smoking and lung cancer.\n"
      ],
      "metadata": {
        "id": "aBEeasJIfaw8"
      },
      "execution_count": null,
      "outputs": []
    },
    {
      "cell_type": "code",
      "source": [
        "What are descriptive statistics?\n",
        "\n",
        "Ans :Descriptive statistics are used to summarize and describe the basic features of a dataset, providing a concise overview of its characteristics without making generalizations about a larger population.\n",
        "They focus on the sample or population at hand, offering insights into its distribution, central tendency, and variability.\n",
        "Here's a breakdown of key aspects:\n",
        "Purpose:\n",
        "To present data in a meaningful and understandable way.\n",
        "To reveal the main features of the data.\n",
        "To provide a foundation for further statistical analysis.\n",
        "Types of Descriptive Statistics:\n",
        "Measures of Central Tendency:\n",
        "These describe the \"average\" or typical value within a dataset. Common examples include:\n",
        "Mean: The sum of all values divided by the number of values.\n",
        "Median: The middle value when the data is ordered.\n",
        "Mode: The value that appears most frequently.\n",
        "Measures of Variability (or Dispersion):\n",
        "These describe how spread out the data is. Examples include:\n",
        "Range: The difference between the highest and lowest values.\n",
        "Variance: The average of the squared differences from the mean.\n",
        "Standard Deviation: The square root of the variance, indicating the typical distance of values from the mean.\n",
        "Frequency Distribution:\n",
        "This describes how often each value appears in the dataset.\n",
        "Graphical Representations:\n",
        "Descriptive statistics also utilize visual aids like:\n",
        "Histograms: Show the distribution of data using bars.\n",
        "Bar charts: Compare different categories of data.\n",
        "Pie charts: Show the proportions of different categories.\n",
        "Scatter plots: Display the relationship between two variables.\n",
        "Box plots: Summarize the distribution of data, showing quartiles, median, and outliers.\n",
        "Example:\n",
        "Imagine you have a dataset of test scores from a class. Descriptive statistics would help you understand:\n",
        "What is the average score (mean)?\n",
        "Is the class performing well overall (central tendency)?\n",
        "How much variation is there in the scores (variability)?\n",
        "What is the most common score (mode)?\n",
        "What percentage of students scored above a certain mark (frequency distribution)?\n",
        "By using these measures, you can gain a clear picture of the overall performance of the class without needing to analyze individual scores."
      ],
      "metadata": {
        "id": "tqyPV0xbfavy"
      },
      "execution_count": null,
      "outputs": []
    },
    {
      "cell_type": "code",
      "source": [
        "What is inferential statistics?\n",
        "\n",
        "Ans : Inferential statistics uses sample data to make generalizations and predictions about a larger population.\n",
        " It involves using statistical methods to draw conclusions and test hypotheses about a population based on a smaller, representative sample.\n",
        "Essentially, it helps researchers infer characteristics of the whole population from what is observed in a portion of it.\n",
        "Here's a more detailed explanation:\n",
        "Descriptive vs. Inferential:\n",
        "While descriptive statistics summarizes and describes data from a sample, inferential statistics goes a step further to make inferences and predictions about the population from which the sample was drawn.\n",
        "Sampling:\n",
        "Inferential statistics relies on the concept of sampling.\n",
        " Instead of collecting data from the entire population, which can be time-consuming and costly, a sample is selected and used to represent the larger group.\n",
        "Hypothesis Testing:\n",
        "A key aspect of inferential statistics is hypothesis testing.\n",
        "Researchers develop a hypothesis about the population and then use sample data to determine whether there's enough evidence to support or reject that hypothesis.\n",
        "Examples:\n",
        "Polling: Public opinion polls are a great example.\n",
        " Instead of surveying every voter, researchers poll a sample and use inferential statistics to predict how the entire population might vote.\n",
        "Medical Research: In medical trials, researchers might test a new drug on a sample of patients to see if it's effective and then infer whether it would be effective for a larger population of patients.\n",
        "Key Tools:\n",
        "Common tools used in inferential statistics include confidence intervals, hypothesis tests, and regression analysis. These tools help researchers assess the reliability and generalizability of their findings."
      ],
      "metadata": {
        "id": "uvsdwn_Yfata"
      },
      "execution_count": null,
      "outputs": []
    },
    {
      "cell_type": "code",
      "source": [
        "What is sampling in statistics?\n",
        "\n",
        "Ans: In statistics, sampling is the process of selecting a subset of individuals or observations from a larger population to study and make inferences about the entire population.\n",
        "It's a practical technique used when it's not feasible or possible to collect data from every member of the population.\n",
        "Introduction to Collecting a Sample in Statistics\n",
        "Here's a more detailed explanation:\n",
        "\n",
        "Why sample?\n",
        "Impracticality of studying the entire population:\n",
        "Sometimes, the population is too large, geographically dispersed, or requires excessive resources to study in its entirety.\n",
        "Cost and time efficiency:\n",
        "Sampling allows researchers to collect data more quickly and at a lower cost compared to studying the entire population.\n",
        "Destructive testing:\n",
        "If testing a product or process destroys the item being tested, sampling is the only way to gather data.\n",
        "Key concepts in sampling:\n",
        "Population:\n",
        "The entire group of individuals or objects that a researcher is interested in studying.\n",
        "Sample:\n",
        "A subset of the population that is selected for analysis.\n",
        "Sampling frame:\n",
        "A list of all the elements in the population from which the sample will be drawn.\n",
        "\n",
        "Sampling methods:\n",
        "Different techniques used to select a sample from a population, such as probability sampling (random selection) and non-probability sampling (non-random selection).\n",
        "Representative sample:\n",
        "A sample that accurately reflects the characteristics of the larger population.\n",
        "\n",
        "Sampling error:\n",
        "The difference between the results obtained from a sample and the true results that would be obtained from the entire population.\n",
        "Types of sampling:\n",
        "Probability sampling:\n",
        "Methods where each member of the population has a known chance of being selected, ensuring a representative sample.\n",
        " Examples include simple random sampling, stratified sampling, and cluster sampling.\n",
        "\n",
        "Non-probability sampling:\n",
        "Methods where the selection of the sample is not based on random chance. Examples include convenience sampling, quota sampling, and purposive sampling.\n",
        "In essence, sampling allows researchers to make informed conclusions about a larger population by studying a carefully chosen subset of that population\n"
      ],
      "metadata": {
        "id": "W6wPU4vFfarL"
      },
      "execution_count": null,
      "outputs": []
    },
    {
      "cell_type": "code",
      "source": [
        " What are the different types of sampling methods ?\n",
        "\n",
        "Ans : Probability sampling:\n",
        "Methods where each member of the population has a known chance of being selected, ensuring a representative sample. Examples include simple random sampling, stratified sampling, and cluster sampling.\n",
        "Non-probability sampling:\n",
        "Methods where the selection of the sample is not based on random chance. Examples include convenience sampling, quota sampling, and purposive sampling."
      ],
      "metadata": {
        "id": "ItaXL1cLfaoi"
      },
      "execution_count": null,
      "outputs": []
    },
    {
      "cell_type": "code",
      "source": [
        "What is the difference between random and non-random sampling?\n",
        "\n",
        "Ans : Random sampling gives every member of a population an equal chance of being selected, while non-random sampling does not, often relying on researcher judgment or convenience. Random sampling is considered unbiased, whereas non-random sampling can introduce bias.\n",
        "Here's a more detailed explanation:\n",
        "Random Sampling (Probability Sampling):\n",
        "Definition:\n",
        "A sampling technique where each individual in the population has a known, non-zero probability of being selected.\n",
        "Equal Chance:\n",
        "Every member of the population has an equal chance of being included in the sample.\n",
        "Reduced Bias:\n",
        "Random sampling aims to create a representative sample that minimizes bias and allows for generalizations about the larger population.\n",
        "Examples:\n",
        "Simple random sampling, stratified sampling, cluster sampling.\n",
        "Non-Random Sampling (Non-Probability Sampling):\n",
        "Definition:\n",
        "A sampling technique where the probability of selecting each member of the population is not known or equal.\n",
        "Not Equal Chance:\n",
        "Some individuals or groups may have a higher or lower chance of being selected than others.\n",
        "Potential Bias:\n",
        "Non-random sampling can introduce bias because the selection of the sample is based on factors other than random chance, such as convenience, researcher judgment, or specific characteristics.\n",
        "Examples:\n",
        "Convenience sampling, quota sampling, snowball sampling"
      ],
      "metadata": {
        "id": "Gz9Ntou6faj0"
      },
      "execution_count": null,
      "outputs": []
    },
    {
      "cell_type": "code",
      "source": [
        "Define and give examples of qualitative and quantitative data ?\n",
        "Ans : Qualitative data describes characteristics or qualities, often expressed as categories or attributes, while quantitative data represents numerical measurements. Examples of qualitative data include colors, names, and types of food. Quantitative data examples include height, weight, and age.\n",
        "Qualitative Data:\n",
        "Definition:\n",
        "Qualitative data is descriptive and non-numerical. It focuses on qualities or characteristics that can be observed or categorized but not measured with numbers.\n",
        "Examples:\n",
        "Colors: Red, blue, green, etc.\n",
        "Types of fruit: Apple, banana, orange, etc.\n",
        "Customer feedback: \"The service was excellent,\" or \"The food was bland\".\n",
        "Survey responses: Open-ended questions that allow for detailed, descriptive answers.\n",
        "Interview transcripts: Textual data from interviews that capture people's experiences and perspectives.\n",
        "Observations: Notes taken during an observation, describing what is seen or heard.\n",
        "Brand names: Examples include Nike, Adidas, or Apple.\n",
        "Feelings and emotions: Happy, sad, angry.\n",
        "Quantitative Data:\n",
        "Definition:\n",
        "Quantitative data is numerical and can be measured. It focuses on quantities or amounts that can be counted or calculated.\n",
        "Examples:\n",
        "Age: 25 years old, 40 years old, etc.\n",
        "Height: 5'10\", 1.75 meters, etc.\n",
        "Weight: 150 pounds, 70 kilograms, etc.\n",
        "Temperature: 25 degrees Celsius, 77 degrees Fahrenheit, etc.\n",
        "Number of cars: 10 cars, 50 cars, etc.\n",
        "Test scores: 85%, 92%, etc.\n",
        "Website traffic: Number of visitors to a website.\n",
        "Sales figures: Revenue generated, number of units sold.\n",
        "Population size: Number of people in a city or country.\n"
      ],
      "metadata": {
        "id": "AHfx5wUjihT6"
      },
      "execution_count": null,
      "outputs": []
    },
    {
      "cell_type": "code",
      "source": [
        " What are the different types of data in statistics?\n",
        "\n",
        " Ans :In statistics, data is broadly classified into two main types: qualitative (or categorical) data and quantitative (or numerical) data. These are further divided into sub-types. Qualitative data can be nominal or ordinal, while quantitative data can be discrete or continuous.\n",
        "Here's a breakdown:\n",
        "1. Qualitative (Categorical) Data:\n",
        "Nominal Data:\n",
        "Represents categories with no inherent order or ranking. Examples include colors (red, blue, green), types of fruit (apple, banana, orange), or gender (male, female).\n",
        "Ordinal Data:\n",
        "Represents categories with a meaningful order or ranking, but the differences between the ranks may not be equal. Examples include educational levels (high school, bachelor's, master's), or customer satisfaction ratings (very dissatisfied, dissatisfied, neutral, satisfied, very satisfied).\n",
        "2. Quantitative (Numerical) Data:\n",
        "Discrete Data:\n",
        "Represents countable values that can only take specific, separate values with no values in between. Examples include the number of cars in a parking lot, the number of students in a class, or the number of defective items in a batch.\n",
        "Continuous Data:\n",
        "Represents values that can take any value within a given range, including decimals and fractions. Examples include height, weight, temperature, or time.\n",
        ""
      ],
      "metadata": {
        "id": "8YMJNUyWihR4"
      },
      "execution_count": null,
      "outputs": []
    },
    {
      "cell_type": "code",
      "source": [
        " Explain nominal, ordinal, interval, and ratio levels of measurement\n",
        "\n",
        " Ans : There are four levels of measurement: nominal, ordinal, interval, and ratio. They differ in the amount of information they convey and the types of mathematical operations that can be performed on them. Nominal is the least informative, while ratio is the most.\n",
        "1. Nominal:\n",
        "Definition:\n",
        "Nominal scales categorize data into mutually exclusive and non-overlapping categories. There is no inherent order or ranking among the categories.\n",
        "Examples:\n",
        "Colors (red, blue, green), types of fruit (apple, banana, orange), or gender (male, female).\n",
        "Operations:\n",
        "You can count the frequency of each category and calculate proportions or percentages.\n",
        "Key Feature:\n",
        "Categories are distinct and cannot be ranked.\n",
        "2. Ordinal:\n",
        "Definition:\n",
        "Ordinal scales categorize data and also allow for ranking or ordering of the categories.\n",
        "Examples:\n",
        "Education level (high school, bachelor's, master's), customer satisfaction (very dissatisfied, dissatisfied, neutral, satisfied, very satisfied), or socioeconomic status (low, middle, high).\n",
        "Operations:\n",
        "You can determine the order or rank of categories, but you cannot quantify the difference between them.\n",
        "Key Feature:\n",
        "Categories have a meaningful order, but the intervals between them may not be equal.\n",
        "3. Interval:\n",
        "Definition: Interval scales have all the properties of ordinal scales, but the intervals between the values are equal and measurable.\n",
        "Examples: Temperature in Celsius or Fahrenheit, years on a calendar.\n",
        "Operations: You can perform addition, subtraction, and calculations of differences between values. However, you cannot perform multiplication or division because there is no true zero point.\n",
        "Key Feature: Equal intervals, but no true zero.\n",
        "4. Ratio:\n",
        "Definition: Ratio scales have all the properties of interval scales, plus a true zero point that indicates the absence of the measured attribute.\n",
        "Examples: Height, weight, age, income, distance, kelvin temperature.\n",
        "Operations: You can perform all mathematical operations, including multiplication and division.\n",
        "Key Feature: Equal intervals and a true zero.\n"
      ],
      "metadata": {
        "id": "Ys5KG6C5ihPa"
      },
      "execution_count": null,
      "outputs": []
    },
    {
      "cell_type": "code",
      "source": [
        "What is the measure of central tendency?\n",
        "\n",
        "Ans : Measures of central tendency are statistical measures that describe the center or typical value of a dataset.\n",
        "They aim to represent the entire dataset with a single value that indicates its central location.\n",
        "The three most common measures are the mean, median, and mode.\n",
        "Here's a breakdown of each:\n",
        "Mean: The average of all data points, calculated by summing all values and dividing by the number of values.\n",
        "Median: The middle value in a dataset when the values are arranged in order. It is not affected by extreme values (outliers) as much as the mean.\n",
        "Mode: The value that appears most frequently in the dataset.\n",
        "Each measure has its strengths and weaknesses, and the most appropriate one to use depends on the specific dataset and the information you're trying to convey.\n",
        " For example, the mean is commonly used, but the median is preferred when dealing with skewed data or outliers."
      ],
      "metadata": {
        "id": "mC8iezMtihK7"
      },
      "execution_count": null,
      "outputs": []
    },
    {
      "cell_type": "code",
      "source": [
        " Define mean, median, and mode\n",
        " Ans : In statistics, mean, median, and mode are measures of central tendency, used to describe the typical value in a dataset.\n",
        " The mean is the average, calculated by summing all values and dividing by the number of values. The median is the middle value when the data is sorted.\n",
        " The mode is the value that appears most frequently in the dataset.\n",
        "Here's a more detailed explanation:\n",
        "Mean:\n",
        "To find the mean, add all the numbers in a dataset and then divide by the total number of values. For example, the mean of 2, 3, and 4 is (2+3+4)/3 = 3.\n",
        "Median:\n",
        "To find the median, first arrange the data in ascending order. If there is an odd number of data points, the median is the middle value.\n",
        "If there is an even number of data points, the median is the average of the two middle values.\n",
        "For example, in the dataset 2, 3, 4, the median is 3. In the dataset 2, 3, 4, 5, the median is (3+4)/2 = 3.5.\n",
        "Mode:\n",
        "The mode is the value that appears most often in the dataset. For example, in the dataset 2, 2, 3, 4, the mode is 2"
      ],
      "metadata": {
        "id": "NnmSNb7cj8vm"
      },
      "execution_count": null,
      "outputs": []
    },
    {
      "cell_type": "code",
      "source": [
        "What is the significance of the measure of central tendency?\n",
        "\n",
        "Ans : Measures of central tendency are crucial because they summarize a dataset with a single value that represents the \"typical\" or \"average\" value, making it easier to understand and compare data. They are fundamental in data analysis, providing a concise representation of a dataset's central location, helping identify patterns and making comparisons between different datasets.\n",
        "Here's a more detailed breakdown of their significance:\n",
        "1. Summarization and Simplification: Measures of central tendency condense large datasets into a single, representative value.\n",
        "This simplifies complex information, making it easier to grasp the overall characteristics of the data.\n",
        "2. Comparison: By providing a central value, these measures allow for easy comparison between different datasets or different points in time within the same dataset.\n",
        "3. Understanding Data Distribution: The different measures of central tendency (mean, median, mode) can reveal different aspects of the data's distribution. For instance, the mean is sensitive to outliers, while the median is more robust to them.\n",
        "4. Decision Making: Central tendency measures are used in various decision-making processes. For example, knowing the average salary of employees can help a company make decisions about salary adjustments.\n",
        "5. Identifying Outliers: These measures can help identify outliers or extreme values that might skew the data, potentially indicating errors or unusual occurrences.\n",
        "6. Forecasting and Planning: By analyzing trends in central tendency measures over time, businesses and organizations can make forecasts and plan resources effectively.\n",
        "In essence, measures of central tendency are powerful tools for summarizing, comparing, and understanding data, ultimately aiding in informed decision-making and strategic planning."
      ],
      "metadata": {
        "id": "zskPTH8Wj8p3"
      },
      "execution_count": null,
      "outputs": []
    },
    {
      "cell_type": "code",
      "source": [
        "What is variance, and how is it calculated?\n",
        "Ans: Variance is a statistical measure that quantifies the amount of variation or dispersion of a set of data points around its mean.\n",
        "It essentially tells you how spread out your data is.\n",
        "A high variance indicates that the data points are widely scattered, while a low variance suggests that the data points are clustered closely around the mean.\n",
        "Calculation of Variance:\n",
        "The variance is calculated by:\n",
        "Finding the mean (average) of the data set: Sum all the data points and divide by the number of data points.\n",
        "Calculating the difference (deviation) of each data point from the mean: Subtract the mean from each individual data point.\n",
        "Squaring each of these deviations: Square each of the differences calculated in the previous step. This ensures that all values are positive, as negative and positive deviations would cancel each other out when calculating the average.\n",
        "Calculating the average of the squared deviations: Sum all the squared deviations and divide by the number of data points (for population variance) or by the number of data points minus one (for sample variance).\n",
        "Formulas:\n",
        "Population Variance (σ²):\n",
        "σ² = Σ (Xi - μ)² / N, where σ² is the population variance, Xi is each individual data point, μ is the population mean, and N is the total number of data points.\n",
        "Sample Variance (s²):\n",
        "s² = Σ (xi - x̄)² / (n - 1), where s² is the sample variance, xi is each individual data point, x̄ is the sample mean, and n is the number of data points in the sample.\n",
        "Example:\n",
        "Let's say we have the following data set: {2, 4, 4, 4, 5, 5, 7, 9}.\n",
        "Mean: (2 + 4 + 4 + 4 + 5 + 5 + 7 + 9) / 8 = 30 / 8 = 3.75.\n",
        "Deviations: -1.75, 0.25, 0.25, 0.25, 1.25, 1.25, 3.25, 5.25.\n",
        "Squared Deviations: 3.0625, 0.0625, 0.0625, 0.0625, 1.5625, 1.5625, 10.5625, 27.5625.\n",
        "Sample Variance: (3.0625 + 0.0625 + 0.0625 + 0.0625 + 1.5625 + 1.5625 + 10.5625 + 27.5625) / (8 - 1) = 4.875 / 7 = 4.\n",
        "Therefore, the variance for this data set is 4."
      ],
      "metadata": {
        "id": "mvdXQpSQj8ne"
      },
      "execution_count": null,
      "outputs": []
    },
    {
      "cell_type": "code",
      "source": [
        "What is standard deviation, and why is it important?\n",
        "\n",
        "Ans : Standard deviation is a statistical measure that quantifies the amount of variation or dispersion of a set of values from its mean (average). It essentially indicates how spread out the data points are. A low standard deviation means data points are clustered closely around the mean, while a high standard deviation indicates they are more spread out.\n",
        "Importance of Standard Deviation:\n",
        "1. Understanding Data Variability:\n",
        "Standard deviation provides a crucial understanding of how much individual data points deviate from the average. This helps in assessing the consistency or variability within a dataset.\n",
        "2. Comparison of Datasets:\n",
        "It allows for the comparison of different datasets with varying means, enabling a more accurate assessment of the data spread.\n",
        "3. Quality Control:\n",
        "In industries, standard deviation helps in monitoring and maintaining product quality by identifying variations in dimensions, weights, or other characteristics.\n",
        "4. Risk Assessment:\n",
        "In finance, standard deviation is a key measure of risk, indicating the volatility or uncertainty associated with investments or financial instruments.\n",
        "5. Hypothesis Testing:\n",
        "It is used in hypothesis testing to determine the significance of results by assessing how much the observed data deviates from the expected or predicted values.\n",
        "6. Interpretation of Data:\n",
        "It helps in interpreting statistical data by providing context to the mean value, especially when dealing with normal distributions, where certain percentages of data fall within specific standard deviations from the mean.\n",
        "7. Identifying Outliers:\n",
        "A high standard deviation can indicate the presence of outliers or extreme values in the dataset, which may warrant further investigation."
      ],
      "metadata": {
        "id": "bYSTMel8vB5h"
      },
      "execution_count": null,
      "outputs": []
    },
    {
      "cell_type": "code",
      "source": [
        "Define and explain the term range in statistics\n",
        "\n",
        "Ans : In statistics, a range refers to the difference between the highest and lowest values in a dataset. It provides a simple measure of the spread or dispersion of the data.\n",
        " Calculating the range involves subtracting the minimum value from the maximum value.\n",
        ""
      ],
      "metadata": {
        "id": "8FilxK3H90AJ"
      },
      "execution_count": null,
      "outputs": []
    },
    {
      "cell_type": "code",
      "source": [
        "What is the difference between variance and standard deviation?\n",
        "\n",
        "Ans : Variance and standard deviation are both measures of data dispersion, but variance is expressed in squared units while standard deviation is in the original units of the data.\n",
        "Standard deviation is simply the square root of the variance.\n",
        "Variance quantifies how spread out the data is, and standard deviation provides a more interpretable measure of this spread, typically representing the average distance of data points from the mean.\n",
        "Key differences:\n",
        "Units:\n",
        "Variance is expressed in squared units of the original data (e.g., if your data is in meters, variance is in square meters), making it less intuitive to interpret directly. Standard deviation is in the same units as the original data (e.g., meters).\n",
        "Interpretation:\n",
        "Standard deviation is often easier to interpret as it represents the typical distance of data points from the mean.\n",
        "Calculation:\n",
        "Standard deviation is calculated by taking the square root of the variance.\n",
        "Sensitivity to outliers:\n",
        "Variance can be more sensitive to outliers due to the squaring of differences.\n",
        "In essence:\n",
        "Variance:\n",
        "Measures the average squared difference between each data point and the mean.\n",
        "Standard Deviation:\n",
        "Represents the square root of the variance and provides a measure of the spread or dispersion of data around the mean.\n",
        "Both measures are useful in understanding the variability within a dataset, but standard deviation is generally preferred for its interpretability."
      ],
      "metadata": {
        "id": "27HT1ZQz9z92"
      },
      "execution_count": null,
      "outputs": []
    },
    {
      "cell_type": "code",
      "source": [
        "What is skewness in a dataset?\n",
        "\n",
        "Ans : Skewness in a dataset refers to the asymmetry or lack of symmetry in the distribution of data points.\n",
        "It indicates whether the data is more spread out on one side of the mean than the other.\n",
        "A dataset can be positively skewed (right-skewed), negatively skewed (left-skewed), or symmetrical (zero skew)."
      ],
      "metadata": {
        "id": "q-RZjQVl9z5d"
      },
      "execution_count": null,
      "outputs": []
    },
    {
      "cell_type": "code",
      "source": [
        "What does it mean if a dataset is positively or negatively skewed?\n",
        "\n",
        "Ans : In a dataset, positive skew (right skew) indicates that the tail of the distribution is longer on the right side, with the mean typically greater than the median.\n",
        "Conversely, negative skew (left skew) indicates the tail is longer on the left side, with the mean typically less than the median.\n",
        "Essentially, skewness describes the asymmetry of a distribution."
      ],
      "metadata": {
        "id": "RXZVF7O-9z29"
      },
      "execution_count": null,
      "outputs": []
    },
    {
      "cell_type": "code",
      "source": [
        "Define and explain kurtosis\n",
        "\n",
        "Ans : Kurtosis is a statistical measure that describes the shape of a probability distribution, specifically focusing on its \"tailedness\" or the presence of outliers.\n",
        "It indicates how much the data's distribution deviates from a normal distribution in terms of its tails.\n",
        "A high kurtosis suggests heavier tails (more outliers), while a low kurtosis indicates lighter tails (fewer outliers).\n",
        "In simpler terms:\n",
        "Kurtosis measures the \"peakedness\" or \"tailedness\" of a distribution.\n",
        "It tells you how much the data clusters around the mean (the center) versus how much it spreads out into the tails.\n",
        "A normal distribution has a kurtosis of 3 (or an excess kurtosis of 0).\n",
        "Distributions with kurtosis greater than 3 are called leptokurtic and have heavier tails.\n",
        "Distributions with kurtosis less than 3 are called platykurtic and have lighter tails.\n",
        "Key aspects of kurtosis:\n",
        "Tailedness:\n",
        "Kurtosis is primarily concerned with the tails of the distribution, indicating the presence of extreme values or outliers.\n",
        "Peakedness:\n",
        "While kurtosis is sometimes associated with peakedness, it's more accurate to view it as a measure of the tails and their relation to the overall shape.\n",
        "A distribution can be peaked but still have heavy tails.\n",
        "Normal Distribution:\n",
        "A normal distribution has a kurtosis of 3 (or an excess kurtosis of 0), making it a reference point for comparison.\n",
        "Types of Kurtosis:\n",
        "Leptokurtic: Distributions with high kurtosis (greater than 3) and heavier tails. They have a higher concentration of data near the mean and more outliers.\n",
        "Platykurtic: Distributions with low kurtosis (less than 3) and lighter tails. They have less concentration near the mean and fewer outliers.\n",
        "Mesokurtic: Distributions with kurtosis equal to 3 (or excess kurtosis of 0). These are distributions that have a similar peakedness and tailedness to the normal distribution.\n",
        "Applications:\n",
        "Kurtosis is used in various fields, including finance (to assess risk), quality control (to assess consistency), and risk management (to understand the potential for extreme events)"
      ],
      "metadata": {
        "id": "-6IcQJsk_QH7"
      },
      "execution_count": null,
      "outputs": []
    },
    {
      "cell_type": "code",
      "source": [
        "What is the purpose of covariance?\n",
        "\n",
        "Ans : The purpose of covariance is to measure how two variables change together, indicating the direction of their linear relationship.\n",
        "It quantifies whether they tend to increase or decrease simultaneously (positive covariance) or if one increases as the other decreases (negative covariance).\n",
        "Covariance helps understand the joint variability of variables and is a precursor to understanding correlation."
      ],
      "metadata": {
        "id": "zyS3_pep_QE_"
      },
      "execution_count": null,
      "outputs": []
    },
    {
      "cell_type": "code",
      "source": [
        "What does correlation measure in statistics/\n",
        "\n",
        "Ans :In statistics, correlation measures the strength and direction of the linear relationship between two variables.\n",
        "It indicates how closely the values of one variable change with respect to the values of another variable"
      ],
      "metadata": {
        "id": "Mp_uueB-_QCB"
      },
      "execution_count": null,
      "outputs": []
    },
    {
      "cell_type": "code",
      "source": [
        "What is the difference between covariance and correlation?\n",
        "\n",
        "Ans: Covariance and correlation both measure the relationship between two variables, but correlation standardizes the measure, making it easier to interpret and compare across different datasets.\n",
        "Covariance indicates the direction of the relationship (positive or negative), but its magnitude is not standardized and can vary depending on the units of the variables."
      ],
      "metadata": {
        "id": "D1XvDNwNB1sO"
      },
      "execution_count": null,
      "outputs": []
    },
    {
      "cell_type": "code",
      "source": [
        "What are some real-world applications of statistics?\n",
        "\n",
        "Ans: Statistics are applied in countless real-world situations to analyze data, identify trends, and make informed decisions.\n",
        "They are used in business for market research, quality control, and financial forecasting. In healthcare, statistics are crucial for clinical trials, disease tracking, and understanding treatment effectiveness.\n",
        "They also play a vital role in environmental science, government, and even in personal finance"
      ],
      "metadata": {
        "id": "N4kyypR5CC-B"
      },
      "execution_count": null,
      "outputs": []
    },
    {
      "cell_type": "code",
      "source": [
        "pratical question"
      ],
      "metadata": {
        "id": "q6hjL2nLCUcO"
      },
      "execution_count": null,
      "outputs": []
    },
    {
      "cell_type": "code",
      "source": [
        " How do you calculate the mean, median, and mode of a dataset?\n",
        "\n",
        " Ans : The formula to calculate the mean is:\n",
        "\n",
        "Mean (x̅)  = Σxi/ n\n",
        "Median = [(n + 1)/2]th\n",
        "Mode = Highest Frequency Term"
      ],
      "metadata": {
        "id": "Pom6OgkACUPN"
      },
      "execution_count": null,
      "outputs": []
    },
    {
      "cell_type": "code",
      "source": [
        "Write a Python program to compute the variance and standard deviation of a dataset\n"
      ],
      "metadata": {
        "id": "sZpLTsfDCC7W"
      },
      "execution_count": null,
      "outputs": []
    },
    {
      "cell_type": "code",
      "source": [
        "# Python program to get variance of a list\n",
        "\n",
        "# Importing the NumPy module\n",
        "import numpy as np\n",
        "\n",
        "# Taking a list of elements\n",
        "list = [2, 4, 4, 4, 5, 5, 7, 9]\n",
        "\n",
        "# Calculating variance using var()\n",
        "print(np.var(list))"
      ],
      "metadata": {
        "colab": {
          "base_uri": "https://localhost:8080/"
        },
        "id": "nhTWK80rEAwu",
        "outputId": "83565632-dadc-41ca-f726-aaad285a6ade"
      },
      "execution_count": 1,
      "outputs": [
        {
          "output_type": "stream",
          "name": "stdout",
          "text": [
            "4.0\n"
          ]
        }
      ]
    },
    {
      "cell_type": "code",
      "source": [
        "# Python program to get variance of a list\n",
        "\n",
        "# Importing the NumPy module\n",
        "import numpy as np\n",
        "\n",
        "# Taking a list of elements\n",
        "list = [212, 231, 234, 564, 235]\n",
        "\n",
        "# Calculating variance using var()\n",
        "print(np.var(list))"
      ],
      "metadata": {
        "colab": {
          "base_uri": "https://localhost:8080/"
        },
        "id": "SHWVXw-GEBsc",
        "outputId": "e24c2a27-60e0-4008-9dbe-18e94fb0b9fb"
      },
      "execution_count": 2,
      "outputs": [
        {
          "output_type": "stream",
          "name": "stdout",
          "text": [
            "18133.359999999997\n"
          ]
        }
      ]
    },
    {
      "cell_type": "code",
      "source": [
        "Create a dataset and classify it into nominal, ordinal, interval, and ratio types\n"
      ],
      "metadata": {
        "id": "ChTIG322EL6N"
      },
      "execution_count": null,
      "outputs": []
    },
    {
      "cell_type": "code",
      "source": [],
      "metadata": {
        "id": "Bs7-mejzEUm8"
      },
      "execution_count": null,
      "outputs": []
    },
    {
      "cell_type": "code",
      "source": [],
      "metadata": {
        "id": "IpMlm6Y2GpPa"
      },
      "execution_count": null,
      "outputs": []
    },
    {
      "cell_type": "code",
      "source": [
        "Write a Python function to calculate the range of a dataset"
      ],
      "metadata": {
        "id": "VkdP95yHGpMs"
      },
      "execution_count": null,
      "outputs": []
    },
    {
      "cell_type": "code",
      "source": [
        "# printing a natural\n",
        "# number from 5 to 20\n",
        "for i in range(5, 20):\n",
        "    print(i, end=\" \")"
      ],
      "metadata": {
        "colab": {
          "base_uri": "https://localhost:8080/"
        },
        "id": "4-cVZKfNGrKe",
        "outputId": "e0596654-c708-493d-c3f7-8cfc3db56d69"
      },
      "execution_count": 5,
      "outputs": [
        {
          "output_type": "stream",
          "name": "stdout",
          "text": [
            "5 6 7 8 9 10 11 12 13 14 15 16 17 18 19 "
          ]
        }
      ]
    },
    {
      "cell_type": "code",
      "source": [
        "Create a dataset and plot its histogram to visualize skewness"
      ],
      "metadata": {
        "id": "b6l0DtlPG4Ra"
      },
      "execution_count": null,
      "outputs": []
    },
    {
      "cell_type": "code",
      "source": [
        "import matplotlib.pyplot as plt\n",
        "import numpy as np\n",
        "\n",
        "# Generate right-skewed data\n",
        "data = np.random.gamma(2, 3, 1000)  # Using Gamma distribution for right skew\n",
        "\n",
        "# Create the histogram\n",
        "plt.hist(data, bins=30, edgecolor='black')\n",
        "\n",
        "# Add labels and title\n",
        "plt.xlabel(\"Value\")\n",
        "plt.ylabel(\"Frequency\")\n",
        "plt.title(\"Histogram of Right-Skewed Data\")\n",
        "\n",
        "# Show the plot\n",
        "plt.show()"
      ],
      "metadata": {
        "colab": {
          "base_uri": "https://localhost:8080/",
          "height": 472
        },
        "id": "RlcdE3P9HLyt",
        "outputId": "c6a01362-c0c0-4589-e9bd-67ae15304269"
      },
      "execution_count": 6,
      "outputs": [
        {
          "output_type": "display_data",
          "data": {
            "text/plain": [
              "<Figure size 640x480 with 1 Axes>"
            ],
            "image/png": "[encoded data removed]"
          },
          "metadata": {}
        }
      ]
    },
    {
      "cell_type": "code",
      "source": [
        "Calculate skewness and kurtosis of a dataset using Python libraries"
      ],
      "metadata": {
        "id": "HOvEQlqqHLoC"
      },
      "execution_count": null,
      "outputs": []
    },
    {
      "cell_type": "code",
      "source": [
        "# Importing scipy\n",
        "import scipy\n",
        "# Creating a dataset\n",
        "dataset = [10, 25, 14, 26, 35, 45, 67, 90,\n",
        "           40, 50, 60, 10, 16, 18, 20]\n",
        "# Importing library\n",
        "from scipy.stats import skew\n",
        "\n",
        "# Creating a dataset\n",
        "dataset = [88, 85, 82, 97, 67, 77, 74, 86,\n",
        "           81, 95, 77, 88, 85, 76, 81]\n",
        "\n",
        "# Calculate the skewness\n",
        "print(skew(dataset, axis=0, bias=True))"
      ],
      "metadata": {
        "colab": {
          "base_uri": "https://localhost:8080/"
        },
        "id": "5PYMALtdHYzU",
        "outputId": "1b133511-a5ee-48ea-b7e8-3caf58fcfc1f"
      },
      "execution_count": 7,
      "outputs": [
        {
          "output_type": "stream",
          "name": "stdout",
          "text": [
            "0.029331688766181797\n"
          ]
        }
      ]
    },
    {
      "cell_type": "code",
      "source": [
        "Generate a dataset and demonstrate positive and negative skewness"
      ],
      "metadata": {
        "id": "KVPcWcwSHzc7"
      },
      "execution_count": null,
      "outputs": []
    },
    {
      "cell_type": "code",
      "source": [
        "# data with positive skew\n",
        "data_positive = [1, 2, 3, 4, 5, 6, 7, 8, 9, 10, 10, 10]\n",
        "skew_positive = skew(data_positive)\n",
        "print(f\"Positive Skewness: {skew_positive}\")\n",
        "\n",
        "# data with negative skew\n",
        "data_negative = [1, 1, 1, 2, 3, 4, 5, 6, 7, 8, 9, 10]\n",
        "skew_negative = skew(data_negative)\n",
        "print(f\"Negative Skewness: {skew_negative}\")\n"
      ],
      "metadata": {
        "colab": {
          "base_uri": "https://localhost:8080/"
        },
        "id": "0OPW2QQwHzad",
        "outputId": "9a306c02-9411-4fa4-fec9-f57e320898a8"
      },
      "execution_count": 11,
      "outputs": [
        {
          "output_type": "stream",
          "name": "stdout",
          "text": [
            "Positive Skewness: -0.23319270839104805\n",
            "Negative Skewness: 0.23319270839104805\n"
          ]
        }
      ]
    },
    {
      "cell_type": "code",
      "source": [
        "Write a Python script to calculate covariance between two dataset"
      ],
      "metadata": {
        "id": "9WDfYPm_JaDI"
      },
      "execution_count": null,
      "outputs": []
    },
    {
      "cell_type": "code",
      "source": [
        "import numpy as np\n",
        "\n",
        "def calculate_covariance(dataset1, dataset2):\n",
        "  \"\"\"\n",
        "  Calculates the covariance between two datasets.\n",
        "\n",
        "  Args:\n",
        "    dataset1 (list or array-like): The first dataset.\n",
        "    dataset2 (list or array-like): The second dataset.\n",
        "\n",
        "  Returns:\n",
        "    float: The covariance between the two datasets.\n",
        "  \"\"\"\n",
        "  # Convert datasets to NumPy arrays\n",
        "  arr1 = np.array(dataset1)\n",
        "  arr2 = np.array(dataset2)\n",
        "\n",
        "  # Calculate the covariance matrix\n",
        "  covariance_matrix = np.cov(arr1, arr2)\n",
        "\n",
        "  # The covariance between the two datasets is found at index [0, 1] or [1, 0]\n",
        "  # in the covariance matrix.\n",
        "  covariance = covariance_matrix[0, 1]\n",
        "  return covariance\n",
        "\n",
        "# Example usage:\n",
        "data_a = [1, 2, 3, 4, 5]\n",
        "data_b = [5, 4, 3, 2, 1]\n",
        "\n",
        "cov_ab = calculate_covariance(data_a, data_b)\n",
        "print(f\"The covariance between dataset A and dataset B is: {cov_ab}\")\n",
        "\n",
        "data_c = [10, 20, 30, 40, 50]\n",
        "data_d = [12, 22, 35, 45, 58]\n",
        "\n",
        "cov_cd = calculate_covariance(data_c, data_d)\n",
        "print(f\"The covariance between dataset C and dataset D is: {cov_cd}\")"
      ],
      "metadata": {
        "colab": {
          "base_uri": "https://localhost:8080/"
        },
        "id": "uVHIzYMTKDqT",
        "outputId": "ea40d985-8884-4cc4-9922-eeb29c5396e6"
      },
      "execution_count": 12,
      "outputs": [
        {
          "output_type": "stream",
          "name": "stdout",
          "text": [
            "The covariance between dataset A and dataset B is: -2.5\n",
            "The covariance between dataset C and dataset D is: 287.5\n"
          ]
        }
      ]
    },
    {
      "cell_type": "code",
      "source": [
        "Write a Python script to calculate the correlation coefficient between two datasets"
      ],
      "metadata": {
        "id": "7CpHPyvjKItB"
      },
      "execution_count": null,
      "outputs": []
    },
    {
      "cell_type": "code",
      "source": [
        "from scipy import stats\n",
        "import numpy as np\n",
        "\n",
        "def calculate_pearson_correlation(dataset1, dataset2):\n",
        "    \"\"\"\n",
        "    Calculates the Pearson correlation coefficient and p-value between two datasets.\n",
        "\n",
        "    Args:\n",
        "        dataset1 (list or np.array): The first dataset.\n",
        "        dataset2 (list or np.array): The second dataset.\n",
        "\n",
        "    Returns:\n",
        "        tuple: A tuple containing:\n",
        "            - correlation_coefficient (float): The Pearson correlation coefficient.\n",
        "            - p_value (float): The two-tailed p-value.\n",
        "    \"\"\"\n",
        "    if len(dataset1) != len(dataset2):\n",
        "        raise ValueError(\"Datasets must have the same length.\")\n",
        "\n",
        "    correlation_coefficient, p_value = stats.pearsonr(dataset1, dataset2)\n",
        "    return correlation_coefficient, p_value\n",
        "\n",
        "# Example Usage:\n",
        "data_a = [10, 20, 30, 40, 50]\n",
        "data_b = [15, 25, 35, 45, 55]\n",
        "\n",
        "correlation, pval = calculate_pearson_correlation(data_a, data_b)\n",
        "print(f\"Pearson Correlation Coefficient: {correlation:.4f}\")\n",
        "print(f\"P-value: {pval:.4f}\")\n",
        "\n",
        "data_c = np.array([1, 2, 3, 4, 5])\n",
        "data_d = np.array([5, 4, 3, 2, 1])\n",
        "\n",
        "correlation_neg, pval_neg = calculate_pearson_correlation(data_c, data_d)\n",
        "print(f\"\\nPearson Correlation Coefficient (Negative): {correlation_neg:.4f}\")\n",
        "print(f\"P-value (Negative): {pval_neg:.4f}\")"
      ],
      "metadata": {
        "colab": {
          "base_uri": "https://localhost:8080/"
        },
        "id": "3wgNvchjKT5E",
        "outputId": "ecd7115d-f181-451e-f66f-4185995d57ed"
      },
      "execution_count": 13,
      "outputs": [
        {
          "output_type": "stream",
          "name": "stdout",
          "text": [
            "Pearson Correlation Coefficient: 1.0000\n",
            "P-value: 0.0000\n",
            "\n",
            "Pearson Correlation Coefficient (Negative): -1.0000\n",
            "P-value (Negative): 0.0000\n"
          ]
        }
      ]
    },
    {
      "cell_type": "code",
      "source": [
        "Create a scatter plot to visualize the relationship between two variables"
      ],
      "metadata": {
        "id": "725Nhu3aKV7Q"
      },
      "execution_count": null,
      "outputs": []
    },
    {
      "cell_type": "code",
      "source": [
        "import matplotlib.pyplot as plt\n",
        "import numpy as np\n",
        "\n",
        "# Generate some sample data\n",
        "np.random.seed(42) # for reproducibility\n",
        "x = np.random.rand(50) * 10\n",
        "y = 2 * x + 1 + np.random.randn(50) * 2 # Adding some noise for realism\n",
        "\n",
        "# Create the scatter plot\n",
        "plt.scatter(x, y)\n",
        "\n",
        "# Add labels and a title\n",
        "plt.xlabel(\"Independent Variable (X)\")\n",
        "plt.ylabel(\"Dependent Variable (Y)\")\n",
        "plt.title(\"Scatter Plot of X vs. Y\")\n",
        "\n",
        "# Display the plot\n",
        "plt.show()"
      ],
      "metadata": {
        "colab": {
          "base_uri": "https://localhost:8080/",
          "height": 472
        },
        "id": "FZb1kZZkKifb",
        "outputId": "8c64d527-fbd1-4420-e397-cab197a968dc"
      },
      "execution_count": 14,
      "outputs": [
        {
          "output_type": "display_data",
          "data": {
            "text/plain": [
              "<Figure size 640x480 with 1 Axes>"
            ],
            "image/png": "[encoded data removed]"
          },
          "metadata": {}
        }
      ]
    },
    {
      "cell_type": "code",
      "source": [
        "Implement and compare simple random sampling and systematic sampling"
      ],
      "metadata": {
        "id": "e73tTWbOKtFv"
      },
      "execution_count": null,
      "outputs": []
    },
    {
      "cell_type": "code",
      "source": [
        "import random\n",
        "import pandas as pd\n",
        "\n",
        "# Sample data (replace with your actual data)\n",
        "data = {'ID': range(1, 101), 'Value': [random.randint(1, 100) for _ in range(100)]}\n",
        "df = pd.DataFrame(data)\n",
        "\n",
        "def simple_random_sampling(dataframe, sample_size):\n",
        "    \"\"\"\n",
        "    Performs simple random sampling.\n",
        "\n",
        "    Args:\n",
        "        dataframe: The pandas DataFrame to sample from.\n",
        "        sample_size: The desired sample size.\n",
        "\n",
        "    Returns:\n",
        "        A pandas DataFrame containing the simple random sample.\n",
        "    \"\"\"\n",
        "    if sample_size > len(dataframe):\n",
        "        raise ValueError(\"Sample size cannot be greater than population size\")\n",
        "    sample_indices = random.sample(range(len(dataframe)), sample_size)\n",
        "    return dataframe.iloc[sample_indices]\n",
        "\n",
        "\n",
        "def systematic_sampling(dataframe, sample_size):\n",
        "    \"\"\"\n",
        "    Performs systematic sampling.\n",
        "\n",
        "    Args:\n",
        "        dataframe: The pandas DataFrame to sample from.\n",
        "        sample_size: The desired sample size.\n",
        "\n",
        "    Returns:\n",
        "        A pandas DataFrame containing the systematic sample.\n",
        "    \"\"\"\n",
        "    if sample_size > len(dataframe):\n",
        "        raise ValueError(\"Sample size cannot be greater than population size\")\n",
        "    population_size = len(dataframe)\n",
        "    # Calculate the sampling interval\n",
        "    interval = population_size // sample_size\n",
        "    # Generate a random starting point\n",
        "    start = random.randint(0, interval - 1)\n",
        "    # Select indices for the systematic sample\n",
        "    indices = [start + i * interval for i in range(sample_size) if start + i * interval < population_size]\n",
        "    return dataframe.iloc[indices]\n",
        "\n",
        "\n",
        "# Example usage\n",
        "sample_size = 20\n",
        "simple_random_sample = simple_random_sampling(df, sample_size)\n",
        "systematic_sample = systematic_sampling(df, sample_size)\n",
        "\n",
        "print(\"Simple Random Sample:\\n\", simple_random_sample.head())\n",
        "print(\"\\nSystematic Sample:\\n\", systematic_sample.head())"
      ],
      "metadata": {
        "colab": {
          "base_uri": "https://localhost:8080/"
        },
        "id": "Ly3QzwYOLTrd",
        "outputId": "6ac1da84-db87-4d12-a90d-d48f11f66548"
      },
      "execution_count": 18,
      "outputs": [
        {
          "output_type": "stream",
          "name": "stdout",
          "text": [
            "Simple Random Sample:\n",
            "     ID  Value\n",
            "37  38     95\n",
            "18  19     18\n",
            "62  63     71\n",
            "42  43     48\n",
            "16  17     88\n",
            "\n",
            "Systematic Sample:\n",
            "     ID  Value\n",
            "1    2      5\n",
            "6    7      1\n",
            "11  12     37\n",
            "16  17     88\n",
            "21  22     27\n"
          ]
        }
      ]
    },
    {
      "cell_type": "code",
      "source": [
        "    def calculate_mean(data):\n",
        "        \"\"\"Calculates the mean of grouped data.\n",
        "\n",
        "        Args:\n",
        "            data: A list of tuples, where each tuple contains (midpoint, frequency).\n",
        "        Returns:\n",
        "            The calculated mean.\n",
        "        \"\"\"\n",
        "        sum_fx = 0\n",
        "        total_frequency = 0\n",
        "        for midpoint, frequency in data:\n",
        "            sum_fx += midpoint * frequency\n",
        "            total_frequency += frequency\n",
        "        return sum_fx / total_frequency\n",
        "    # Example usage\n",
        "    data = [(15, 6), (25, 8), (35, 10), (45, 12), (55, 7)] # (midpoint, frequency)\n",
        "    mean = calculate_mean(data)\n",
        "    print(f\"Mean: {mean}\")"
      ],
      "metadata": {
        "colab": {
          "base_uri": "https://localhost:8080/"
        },
        "id": "MUD5oX5qMGcC",
        "outputId": "487ffe82-93e2-43d9-af0e-ac7df1a743e5"
      },
      "execution_count": 19,
      "outputs": [
        {
          "output_type": "stream",
          "name": "stdout",
          "text": [
            "Mean: 36.395348837209305\n"
          ]
        }
      ]
    },
    {
      "cell_type": "code",
      "source": [
        "Calculate the mean, median, and mode of grouped data"
      ],
      "metadata": {
        "id": "kZQhNKqrMto1"
      },
      "execution_count": null,
      "outputs": []
    },
    {
      "cell_type": "code",
      "source": [
        "    def calculate_median(data):\n",
        "       \"\"\"Calculates the median of grouped data.\n",
        "       Args:\n",
        "           data: A list of tuples, where each tuple contains (midpoint, frequency).\n",
        "       Returns:\n",
        "           The calculated median.\n",
        "       \"\"\"\n",
        "       total_frequency = sum(frequency for _, frequency in data)\n",
        "       N_over_2 = total_frequency / 2\n",
        "       cumulative_frequency = 0\n",
        "       median_class = None\n",
        "       for i, (midpoint, frequency) in enumerate(data):\n",
        "           cumulative_frequency += frequency\n",
        "           if cumulative_frequency >= N_over_2:\n",
        "               median_class = i\n",
        "               break\n",
        "       if median_class is None:\n",
        "          return None\n",
        "       L = data[median_class][0] - (data[1][0] - data[0][0]) / 2 if median_class > 0 else data[median_class][0] - (data[1][0] - data[0][0]) / 2 # lower limit of the median class\n",
        "       cf = sum(frequency for _, frequency in data[:median_class]) if median_class > 0 else 0\n",
        "       f = data[median_class][1]\n",
        "       h = data[1][0] - data[0][0] # class width\n",
        "       return L + ((N_over_2 - cf) / f) * h\n",
        "    # Example usage:\n",
        "    data = [(15, 6), (25, 8), (35, 10), (45, 12), (55, 7)]  # (midpoint, frequency)\n",
        "    median = calculate_median(data)\n",
        "    print(f\"Median: {median}\")"
      ],
      "metadata": {
        "colab": {
          "base_uri": "https://localhost:8080/"
        },
        "id": "9shxAQ0pMbbm",
        "outputId": "b67fd4ce-dd8f-4029-bd46-88fcfff296f4"
      },
      "execution_count": 20,
      "outputs": [
        {
          "output_type": "stream",
          "name": "stdout",
          "text": [
            "Median: 37.5\n"
          ]
        }
      ]
    },
    {
      "cell_type": "code",
      "source": [
        "Simulate data using Python and calculate its central tendency and dispersion"
      ],
      "metadata": {
        "id": "UpcrKsAqMe-m"
      },
      "execution_count": null,
      "outputs": []
    },
    {
      "cell_type": "code",
      "source": [
        "import numpy as np\n",
        "from scipy import stats\n",
        "\n",
        "# 1. Simulate data\n",
        "# Generate 100 random numbers from a normal distribution\n",
        "# with a mean of 50 and a standard deviation of 10.\n",
        "data = np.random.normal(loc=50, scale=10, size=100)\n",
        "\n",
        "print(\"Simulated Data (first 10 elements):\")\n",
        "print(data[:10])\n",
        "print(\"-\" * 30)\n",
        "\n",
        "# 2. Calculate Measures of Central Tendency\n",
        "\n",
        "# Mean: The arithmetic average of the data.\n",
        "mean_value = np.mean(data)\n",
        "\n",
        "# Median: The middle value when the data is sorted.\n",
        "median_value = np.median(data)\n",
        "\n",
        "# Mode: The most frequently occurring value(s).\n",
        "# For continuous data, the mode might not be well-defined or unique.\n",
        "# stats.mode returns the mode and its count.\n",
        "mode_result = stats.mode(data)\n",
        "# Access the actual mode value, handling cases where mode_result.mode is a scalar\n",
        "if np.isscalar(mode_result.mode):\n",
        "    mode_value = mode_result.mode\n",
        "else:\n",
        "    mode_value = mode_result.mode[0]\n",
        "\n",
        "\n",
        "print(f\"Mean: {mean_value:.2f}\")\n",
        "print(f\"Median: {median_value:.2f}\")\n",
        "print(f\"Mode: {mode_value:.2f}\")\n",
        "print(\"-\" * 30)\n",
        "\n",
        "# 3. Calculate Measures of Dispersion\n",
        "\n",
        "# Variance: The average of the squared differences from the mean.\n",
        "# np.var calculates the population variance by default (ddof=0).\n",
        "# For sample variance, use ddof=1.\n",
        "variance_value = np.var(data, ddof=1)\n",
        "\n",
        "# Standard Deviation: The square root of the variance, indicating the spread of data.\n",
        "# np.std calculates the population standard deviation by default (ddof=0).\n",
        "# For sample standard deviation, use ddof=1.\n",
        "std_dev_value = np.std(data, ddof=1)\n",
        "\n",
        "# Range: The difference between the maximum and minimum values.\n",
        "range_value = np.max(data) - np.min(data)\n",
        "\n",
        "# Interquartile Range (IQR): The range of the middle 50% of the data.\n",
        "# Calculated as the difference between the 75th percentile (Q3) and the 25th percentile (Q1).\n",
        "q1 = np.percentile(data, 25)\n",
        "q3 = np.percentile(data, 75)\n",
        "iqr_value = q3 - q1\n",
        "\n",
        "print(f\"Variance (Sample): {variance_value:.2f}\")\n",
        "print(f\"Standard Deviation (Sample): {std_dev_value:.2f}\")\n",
        "print(f\"Range: {range_value:.2f}\")\n",
        "print(f\"Interquartile Range (IQR): {iqr_value:.2f}\")"
      ],
      "metadata": {
        "colab": {
          "base_uri": "https://localhost:8080/"
        },
        "id": "NRzJ__WOM4yw",
        "outputId": "b2adad0a-6d28-4ac9-ac79-a9e84dbbe633"
      },
      "execution_count": 23,
      "outputs": [
        {
          "output_type": "stream",
          "name": "stdout",
          "text": [
            "Simulated Data (first 10 elements):\n",
            "[47.9187775  45.06999065 44.10635243 58.49602097 53.57015486 43.07090405\n",
            " 58.99599875 53.07299521 58.12862119 56.29628842]\n",
            "------------------------------\n",
            "Mean: 51.10\n",
            "Median: 50.86\n",
            "Mode: 28.76\n",
            "------------------------------\n",
            "Variance (Sample): 67.85\n",
            "Standard Deviation (Sample): 8.24\n",
            "Range: 43.14\n",
            "Interquartile Range (IQR): 12.04\n"
          ]
        }
      ]
    },
    {
      "cell_type": "code",
      "source": [
        "Use NumPy or pandas to summarize a dataset’s descriptive statistics>"
      ],
      "metadata": {
        "id": "3EkXCtx9NJL1"
      },
      "execution_count": null,
      "outputs": []
    },
    {
      "cell_type": "code",
      "source": [
        "#To summarize a dataset's descriptive statistics using Pandas or NumPy, the following methods are available:\n",
        "#Using Pandas:\n",
        "#Pandas DataFrames offer a convenient method for generating comprehensive descriptive statistics. import pandas.\n",
        "import pandas as pd\n",
        "#Create a DataFrame (if starting from raw data):\n",
        "data = {'col1': [1, 2, 3, 4, 5],\n",
        "        'col2': [10, 20, 30, 40, 50],\n",
        "        'col3': [1.1, 2.2, 3.3, 4.4, 5.5]}\n",
        "df = pd.DataFrame(data)\n",
        "#generate descriptive statistics.\n",
        "#The describe() method provides a summary of numerical columns, including count, mean, standard deviation, minimum, 25th percentile (Q1), median (50th percentile/Q2), 75th percentile (Q3), and maximum.\n",
        "summary_stats = df.describe()\n",
        "print(summary_stats)\n",
        "#Using NumPy:\n",
        "#NumPy provides individual functions for calculating specific descriptive statistics on arrays. import numpy.\n",
        "import numpy as np\n",
        "#Create a NumPy array\n",
        "arr = np.array([1, 2, 3, 4, 5, 10, 20, 30, 40, 50])\n",
        "#Calculate Specific Statistics\n",
        "mean_val = np.mean(arr)\n",
        "std_dev = np.std(arr)\n",
        "min_val = np.min(arr)\n",
        "max_val = np.max(arr)\n",
        "median_val = np.median(arr)\n",
        "percentiles = np.percentile(arr, [25, 50, 75]) # Q1, Median, Q3\n",
        "\n",
        "print(f\"Mean: {mean_val}\")\n",
        "print(f\"Standard Deviation: {std_dev}\")\n",
        "print(f\"Minimum: {min_val}\")\n",
        "print(f\"Maximum: {max_val}\")\n",
        "print(f\"Median: {median_val}\")\n",
        "print(f\"Percentiles (25th, 50th, 75th): {percentiles}\")"
      ],
      "metadata": {
        "colab": {
          "base_uri": "https://localhost:8080/"
        },
        "id": "84oReaViNYtk",
        "outputId": "d065e3f0-b4ca-43c3-913e-211db86130a6"
      },
      "execution_count": 25,
      "outputs": [
        {
          "output_type": "stream",
          "name": "stdout",
          "text": [
            "           col1       col2      col3\n",
            "count  5.000000   5.000000  5.000000\n",
            "mean   3.000000  30.000000  3.300000\n",
            "std    1.581139  15.811388  1.739253\n",
            "min    1.000000  10.000000  1.100000\n",
            "25%    2.000000  20.000000  2.200000\n",
            "50%    3.000000  30.000000  3.300000\n",
            "75%    4.000000  40.000000  4.400000\n",
            "max    5.000000  50.000000  5.500000\n",
            "Mean: 16.5\n",
            "Standard Deviation: 16.830032679706836\n",
            "Minimum: 1\n",
            "Maximum: 50\n",
            "Median: 7.5\n",
            "Percentiles (25th, 50th, 75th): [ 3.25  7.5  27.5 ]\n"
          ]
        }
      ]
    },
    {
      "cell_type": "code",
      "source": [
        "Plot a boxplot to understand the spread and identify outliers"
      ],
      "metadata": {
        "id": "ao_a1qweO1Wj"
      },
      "execution_count": null,
      "outputs": []
    },
    {
      "cell_type": "code",
      "source": [
        "import matplotlib.pyplot as plt\n",
        "import numpy as np\n",
        "\n",
        "# Sample data\n",
        "data = [10, 12, 15, 14, 3, 25, 22, 28, 18, 20, 23, 27, 16, 17, 29, 19, 21, 11, 24, 26]\n",
        "\n",
        "# Create the boxplot\n",
        "plt.figure(figsize=(8, 6))  # Optional: Adjust figure size\n",
        "plt.boxplot(data, vert=True, patch_artist=True, showmeans=False, showfliers=True)\n",
        "plt.title('Boxplot of Sample Data')\n",
        "plt.ylabel('Values')\n",
        "plt.grid(axis='y', linestyle='--')\n",
        "plt.show()\n",
        "\n",
        "# Calculate IQR and identify outliers\n",
        "Q1 = np.percentile(data, 25)\n",
        "Q3 = np.percentile(data, 75)\n",
        "IQR = Q3 - Q1\n",
        "upper_threshold = Q3 + 1.5 * IQR\n",
        "lower_threshold = Q1 - 1.5 * IQR\n",
        "\n",
        "outliers = [x for x in data if x < lower_threshold or x > upper_threshold]\n",
        "\n",
        "print(f\"Q1: {Q1}\")\n",
        "print(f\"Q3: {Q3}\")\n",
        "print(f\"IQR: {IQR}\")\n",
        "print(f\"Upper Threshold: {upper_threshold}\")\n",
        "print(f\"Lower Threshold: {lower_threshold}\")\n",
        "print(f\"Outliers: {outliers}\")"
      ],
      "metadata": {
        "colab": {
          "base_uri": "https://localhost:8080/",
          "height": 649
        },
        "id": "VFucur2jPGSC",
        "outputId": "e27a2a24-d409-4595-e8cd-04636e143bf9"
      },
      "execution_count": 26,
      "outputs": [
        {
          "output_type": "display_data",
          "data": {
            "text/plain": [
              "<Figure size 800x600 with 1 Axes>"
            ],
            "image/png": "[encoded data removed]"
          },
          "metadata": {}
        },
        {
          "output_type": "stream",
          "name": "stdout",
          "text": [
            "Q1: 14.75\n",
            "Q3: 24.25\n",
            "IQR: 9.5\n",
            "Upper Threshold: 38.5\n",
            "Lower Threshold: 0.5\n",
            "Outliers: []\n"
          ]
        }
      ]
    },
    {
      "cell_type": "code",
      "source": [
        "Calculate the interquartile range (IQR) of a dataset"
      ],
      "metadata": {
        "id": "kXXi_skcPZ9J"
      },
      "execution_count": null,
      "outputs": []
    },
    {
      "cell_type": "code",
      "source": [
        "import numpy as np\n",
        "\n",
        "def calculate_iqr(data):\n",
        "  \"\"\"\n",
        "  Calculates the interquartile range (IQR) of a dataset.\n",
        "\n",
        "  Args:\n",
        "    data: A list or NumPy array of numerical data.\n",
        "\n",
        "  Returns:\n",
        "    The IQR of the data.\n",
        "  \"\"\"\n",
        "  q75, q25 = np.percentile(data, [75, 25])\n",
        "  return q75 - q25\n",
        "\n",
        "# Example usage:\n",
        "data = [3, 4, 7, 8, 10, 12, 15, 18]\n",
        "iqr = calculate_iqr(data)\n",
        "print(f\"The interquartile range (IQR) is: {iqr}\")"
      ],
      "metadata": {
        "colab": {
          "base_uri": "https://localhost:8080/"
        },
        "id": "YoMSiSafPfOr",
        "outputId": "2836bbc2-0be1-4727-ebca-d3e48fe6f463"
      },
      "execution_count": 27,
      "outputs": [
        {
          "output_type": "stream",
          "name": "stdout",
          "text": [
            "The interquartile range (IQR) is: 6.5\n"
          ]
        }
      ]
    },
    {
      "cell_type": "code",
      "source": [
        " Implement Z-score normalization and explain its significance"
      ],
      "metadata": {
        "id": "filEPbD7PrWH"
      },
      "execution_count": null,
      "outputs": []
    },
    {
      "cell_type": "code",
      "source": [
        "import numpy as np\n",
        "\n",
        "def z_score_normalize(data):\n",
        "    \"\"\"\n",
        "    Performs Z-score normalization on a dataset.\n",
        "\n",
        "    Args:\n",
        "        data: A NumPy array or list of numerical data.\n",
        "\n",
        "    Returns:\n",
        "        A NumPy array of the normalized data.\n",
        "    \"\"\"\n",
        "    mean = np.mean(data)\n",
        "    std_dev = np.std(data)\n",
        "    normalized_data = (data - mean) / std_dev\n",
        "    return normalized_data\n",
        "\n",
        "#usage\n",
        "data = [10, 20, 30, 40, 50]\n",
        "normalized_data = z_score_normalize(data)\n",
        "print(normalized_data)\n",
        "\n",
        "# with a dataset\n",
        "data_2d = np.array([[10, 20], [30, 40], [50, 60]])\n",
        "normalized_data_2d = np.array([z_score_normalize(data_2d[:, i]) for i in range(data_2d.shape[1])]).T\n",
        "print(normalized_data_2d)"
      ],
      "metadata": {
        "colab": {
          "base_uri": "https://localhost:8080/"
        },
        "id": "itlnygw0PxzJ",
        "outputId": "3a15ca29-2973-4b13-8b5b-b54c74408672"
      },
      "execution_count": 29,
      "outputs": [
        {
          "output_type": "stream",
          "name": "stdout",
          "text": [
            "[-1.41421356 -0.70710678  0.          0.70710678  1.41421356]\n",
            "[[-1.22474487 -1.22474487]\n",
            " [ 0.          0.        ]\n",
            " [ 1.22474487  1.22474487]]\n"
          ]
        }
      ]
    },
    {
      "cell_type": "code",
      "source": [
        "Compare two datasets using their standard deviations"
      ],
      "metadata": {
        "id": "91ph7Hp0P3fw"
      },
      "execution_count": null,
      "outputs": []
    },
    {
      "cell_type": "code",
      "source": [
        "import numpy as np\n",
        "\n",
        "def compare_standard_deviations(data1, data2):\n",
        "    \"\"\"Compares the standard deviations of two datasets.\n",
        "\n",
        "    Args:\n",
        "        data1: The first dataset (list or numpy array).\n",
        "        data2: The second dataset (list or numpy array).\n",
        "\n",
        "    Returns:\n",
        "        A tuple containing the standard deviations of data1 and data2,\n",
        "        along with a comparison message.\n",
        "    \"\"\"\n",
        "    std_dev1 = np.std(data1)\n",
        "    std_dev2 = np.std(data2)\n",
        "\n",
        "    if std_dev1 > std_dev2:\n",
        "        comparison = \"Data set 1 has a higher standard deviation than data set 2.\"\n",
        "    elif std_dev2 > std_dev1:\n",
        "        comparison = \"Data set 2 has a higher standard deviation than data set 1.\"\n",
        "    else:\n",
        "        comparison = \"Both data sets have the same standard deviation.\"\n",
        "\n",
        "    return std_dev1, std_dev2, comparison\n",
        "\n",
        "# Example usage\n",
        "data_a = [10, 12, 15, 13, 17, 11, 14]\n",
        "data_b = [22, 25, 23, 26, 24, 27, 21]\n",
        "\n",
        "std_a, std_b, message = compare_standard_deviations(data_a, data_b)\n",
        "\n",
        "print(f\"Standard deviation of data_a: {std_a:.2f}\")\n",
        "print(f\"Standard deviation of data_b: {std_b:.2f}\")\n",
        "print(message)"
      ],
      "metadata": {
        "colab": {
          "base_uri": "https://localhost:8080/"
        },
        "id": "3D5_SFNqQGqS",
        "outputId": "d6e39d24-8f75-4b40-ad87-2c2b6d98de66"
      },
      "execution_count": 30,
      "outputs": [
        {
          "output_type": "stream",
          "name": "stdout",
          "text": [
            "Standard deviation of data_a: 2.23\n",
            "Standard deviation of data_b: 2.00\n",
            "Data set 1 has a higher standard deviation than data set 2.\n"
          ]
        }
      ]
    },
    {
      "cell_type": "code",
      "source": [
        " Write a Python program to visualize covariance using a heatmap"
      ],
      "metadata": {
        "id": "dgFFELDJQHyX"
      },
      "execution_count": null,
      "outputs": []
    },
    {
      "cell_type": "code",
      "source": [
        "import numpy as np\n",
        "import pandas as pd\n",
        "import seaborn as sns\n",
        "import matplotlib.pyplot as plt\n",
        "\n",
        "# 1. Generate or load data\n",
        "# For demonstration, let's create a sample DataFrame with some correlated features.\n",
        "data = {\n",
        "    'Feature_A': [10, 12, 15, 18, 20, 22, 25, 28, 30, 32],\n",
        "    'Feature_B': [5, 6, 7, 9, 10, 11, 12, 14, 15, 16],\n",
        "    'Feature_C': [2, 3, 4, 5, 6, 7, 8, 9, 10, 11],\n",
        "    'Feature_D': [100, 95, 90, 85, 80, 75, 70, 65, 60, 55] # Negatively correlated\n",
        "}\n",
        "df = pd.DataFrame(data)\n",
        "\n",
        "# 2. Calculate the covariance matrix\n",
        "covariance_matrix = df.cov()\n",
        "\n",
        "# 3. Create the heatmap\n",
        "plt.figure(figsize=(8, 6)) # Adjust figure size as needed\n",
        "sns.heatmap(\n",
        "    covariance_matrix,\n",
        "    annot=True,      # Display the covariance values on the heatmap\n",
        "    cmap='viridis',  # Choose a color map (e.g., 'viridis', 'coolwarm', 'RdBu')\n",
        "    fmt=\".2f\",       # Format the annotation values to two decimal places\n",
        "    linewidths=.5    # Add lines between cells\n",
        ")\n",
        "\n",
        "# 4. Add title and labels\n",
        "plt.title('Covariance Matrix Heatmap')\n",
        "plt.xlabel('Features')\n",
        "plt.ylabel('Features')\n",
        "\n",
        "# 5. Display the plot\n",
        "plt.show()"
      ],
      "metadata": {
        "colab": {
          "base_uri": "https://localhost:8080/",
          "height": 564
        },
        "id": "e54WKGyUQRfc",
        "outputId": "9f5964e2-ee79-4f58-abd7-1e92a4cbee6b"
      },
      "execution_count": 31,
      "outputs": [
        {
          "output_type": "display_data",
          "data": {
            "text/plain": [
              "<Figure size 800x600 with 2 Axes>"
            ],
            "image/png": "[encoded data removed]"
          },
          "metadata": {}
        }
      ]
    },
    {
      "cell_type": "code",
      "source": [
        "Use seaborn to create a correlation matrix for a dataset"
      ],
      "metadata": {
        "id": "N7yWCGhrQV2e"
      },
      "execution_count": null,
      "outputs": []
    },
    {
      "cell_type": "code",
      "source": [
        "import pandas as pd\n",
        "import seaborn as sns\n",
        "import matplotlib.pyplot as plt\n",
        "\n",
        "data = {'feature1': [1, 2, 3, 4, 5],\n",
        "        'feature2': [2, 4, 5, 4, 5],\n",
        "        'feature3': [3, 6, 7, 8, 9],\n",
        "        'feature4': [4, 8, 9, 10, 12]}\n",
        "df = pd.DataFrame(data)\n",
        "correlation_matrix = df.corr()\n",
        "plt.figure(figsize=(8, 6))  # Optional: Adjust figure size\n",
        "sns.heatmap(correlation_matrix, annot=True, cmap=\"coolwarm\", fmt=\".2f\", linewidths=.5)\n",
        "plt.title('Correlation Matrix Heatmap')\n",
        "plt.show()"
      ],
      "metadata": {
        "colab": {
          "base_uri": "https://localhost:8080/",
          "height": 545
        },
        "id": "mlkHTnxTQ8te",
        "outputId": "0d97a98f-1b02-4e71-f0fe-0d8f63169731"
      },
      "execution_count": 34,
      "outputs": [
        {
          "output_type": "display_data",
          "data": {
            "text/plain": [
              "<Figure size 800x600 with 2 Axes>"
            ],
            "image/png": "[encoded data removed]"
          },
          "metadata": {}
        }
      ]
    },
    {
      "cell_type": "code",
      "source": [
        "Generate a dataset and implement both variance and standard deviation computations>\n"
      ],
      "metadata": {
        "id": "d1-18pNxRaS9"
      },
      "execution_count": null,
      "outputs": []
    },
    {
      "cell_type": "code",
      "source": [
        "import math\n",
        "\n",
        "def calculate_mean(data):\n",
        "    \"\"\"Calculates the mean (average) of a list of numbers.\"\"\"\n",
        "    return sum(data) / len(data)\n",
        "\n",
        "def calculate_variance(data):\n",
        "    \"\"\"Calculates the population variance of a list of numbers.\"\"\"\n",
        "    n = len(data)\n",
        "    if n < 2:\n",
        "        return 0  # Avoid division by zero for small datasets\n",
        "    mean = calculate_mean(data)\n",
        "    deviations = [(x - mean) ** 2 for x in data]\n",
        "    return sum(deviations) / n\n",
        "\n",
        "def calculate_standard_deviation(data):\n",
        "    \"\"\"Calculates the population standard deviation of a list of numbers.\"\"\"\n",
        "    return math.sqrt(calculate_variance(data))\n",
        "\n",
        "# Example usage\n",
        "data = [10, 12, 15, 18, 20, 22, 25, 28, 30, 35]\n",
        "\n",
        "mean = calculate_mean(data)\n",
        "variance = calculate_variance(data)\n",
        "std_dev = calculate_standard_deviation(data)\n",
        "\n",
        "print(f\"Data: {data}\")\n",
        "print(f\"Mean: {mean}\")\n",
        "print(f\"Variance: {variance}\")\n",
        "print(f\"Standard Deviation: {std_dev}\")\n",
        "\n",
        "# Example with a smaller dataset\n",
        "data2 = [5, 5, 5, 5, 5]\n",
        "variance2 = calculate_variance(data2)\n",
        "std_dev2 = calculate_standard_deviation(data2)\n",
        "\n",
        "print(f\"\\nData: {data2}\")\n",
        "print(f\"Mean: {calculate_mean(data2)}\")\n",
        "print(f\"Variance: {variance2}\")\n",
        "print(f\"Standard Deviation: {std_dev2}\")\n",
        "\n",
        "# Example with a single element\n",
        "data3 = [7]\n",
        "variance3 = calculate_variance(data3)\n",
        "std_dev3 = calculate_standard_deviation(data3)\n",
        "\n",
        "print(f\"\\nData: {data3}\")\n",
        "print(f\"Mean: {calculate_mean(data3)}\")\n",
        "print(f\"Variance: {variance3}\")\n",
        "print(f\"Standard Deviation: {std_dev3}\")"
      ],
      "metadata": {
        "colab": {
          "base_uri": "https://localhost:8080/"
        },
        "id": "PIReTJ-WRk3b",
        "outputId": "1d664be4-f7d0-4caa-8b97-3f3041ce6b85"
      },
      "execution_count": 35,
      "outputs": [
        {
          "output_type": "stream",
          "name": "stdout",
          "text": [
            "Data: [10, 12, 15, 18, 20, 22, 25, 28, 30, 35]\n",
            "Mean: 21.5\n",
            "Variance: 58.85\n",
            "Standard Deviation: 7.671375365604267\n",
            "\n",
            "Data: [5, 5, 5, 5, 5]\n",
            "Mean: 5.0\n",
            "Variance: 0.0\n",
            "Standard Deviation: 0.0\n",
            "\n",
            "Data: [7]\n",
            "Mean: 7.0\n",
            "Variance: 0\n",
            "Standard Deviation: 0.0\n"
          ]
        }
      ]
    },
    {
      "cell_type": "code",
      "source": [
        "Visualize skewness and kurtosis using Python libraries like matplotlib or seaborn"
      ],
      "metadata": {
        "id": "j4HP6yOfRmFf"
      },
      "execution_count": null,
      "outputs": []
    },
    {
      "cell_type": "code",
      "source": [
        "import numpy as np\n",
        "import seaborn as sns\n",
        "import matplotlib.pyplot as plt\n",
        "from scipy.stats import skew, kurtosis\n",
        "\n",
        "# Generate sample data with different characteristics\n",
        "np.random.seed(42)\n",
        "normal_data = np.random.normal(loc=0, scale=1, size=1000)\n",
        "positive_skew_data = np.random.exponential(scale=1, size=1000)\n",
        "negative_skew_data = -np.random.exponential(scale=1, size=1000)\n",
        "heavy_tailed_data = np.random.laplace(loc=0, scale=1, size=1000)\n",
        "light_tailed_data = np.random.uniform(low=-2, high=2, size=1000)\n",
        "\n",
        "data_sets = {\n",
        "    \"Normal Distribution\": normal_data,\n",
        "    \"Positive Skew\": positive_skew_data,\n",
        "    \"Negative Skew\": negative_skew_data,\n",
        "    \"Leptokurtic (Heavy Tails)\": heavy_tailed_data,\n",
        "    \"Platykurtic (Light Tails)\": light_tailed_data,\n",
        "}\n",
        "\n",
        "plt.figure(figsize=(15, 10))\n",
        "\n",
        "for i, (name, data) in enumerate(data_sets.items()):\n",
        "    plt.subplot(2, 3, i + 1)\n",
        "    sns.histplot(data, kde=True, color='skyblue', stat='density', alpha=0.7)\n",
        "    plt.title(f\"{name}\\nSkew: {skew(data):.2f}, Kurtosis: {kurtosis(data, fisher=True):.2f}\")\n",
        "    plt.xlabel(\"Value\")\n",
        "    plt.ylabel(\"Density\")\n",
        "\n",
        "plt.tight_layout()\n",
        "plt.show()"
      ],
      "metadata": {
        "colab": {
          "base_uri": "https://localhost:8080/",
          "height": 957
        },
        "id": "YrHSB9DVRuek",
        "outputId": "98e74adf-c73c-4dfa-e803-44766ca07e01"
      },
      "execution_count": 36,
      "outputs": [
        {
          "output_type": "display_data",
          "data": {
            "text/plain": [
              "<Figure size 1500x1000 with 5 Axes>"
            ],
            "image/png": "[encoded data removed]"
          },
          "metadata": {}
        }
      ]
    },
    {
      "cell_type": "code",
      "source": [
        "Implement the Pearson and Spearman correlation coefficients for a dataset"
      ],
      "metadata": {
        "id": "tsBOEWTBRvQY"
      },
      "execution_count": null,
      "outputs": []
    },
    {
      "cell_type": "code",
      "source": [
        "import scipy.stats as stats\n",
        "import numpy as np\n",
        "\n",
        "# Sample data\n",
        "x = [1, 2, 3, 4, 5]\n",
        "y = [2, 4, 5, 7, 10]\n",
        "\n",
        "# Pearson correlation\n",
        "pearson_corr, _ = stats.pearsonr(x, y)\n",
        "print(f\"Pearson correlation coefficient: {pearson_corr}\")\n",
        "\n",
        "# Spearman correlation\n",
        "spearman_corr, _ = stats.spearmanr(x, y)\n",
        "print(f\"Spearman correlation coefficient: {spearman_corr}\")"
      ],
      "metadata": {
        "colab": {
          "base_uri": "https://localhost:8080/"
        },
        "id": "lBGl0qMqSChy",
        "outputId": "bbdbb8e6-837f-44bc-f9f5-b1b65b6a7c4f"
      },
      "execution_count": 38,
      "outputs": [
        {
          "output_type": "stream",
          "name": "stdout",
          "text": [
            "Pearson correlation coefficient: 0.985104109993904\n",
            "Spearman correlation coefficient: 0.9999999999999999\n"
          ]
        }
      ]
    },
    {
      "cell_type": "code",
      "source": [],
      "metadata": {
        "id": "cQ4jNGV7SDw3"
      },
      "execution_count": null,
      "outputs": []
    }
  ]
}